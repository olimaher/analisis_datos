{
 "cells": [
  {
   "cell_type": "markdown",
   "metadata": {},
   "source": [
    "### Evidencia de aprendizaje 1. Análisis y herramientas de extracción de datos\n",
    "\n",
    "#### Ossman Mejía\n",
    "#### Olimpo Macea\n",
    "#### Grupo: PREICA2402B020101\n",
    "#### Andrés Felipe Palacio Angel\n",
    "####  Programación para Análisis de Datos\n",
    "#### Noviembre 2024"
   ]
  },
  {
   "cell_type": "markdown",
   "metadata": {},
   "source": [
    "#### Introducción\n",
    "\n",
    "El scraping es una útil herramienta para extracción de datos específicos de forma automática. esto con el objetivo de monitorear alguna variable en específico, para recolectar datos sobre el mercado o competidores o para tener de manera más simple una lista de productos que de otra llevaría más tiempo poder extraer o analizar.\n",
    "\n",
    "Con tal propósito en mente se realiza la extracción de datos sobre tarjetas gráficas para pc de una de las plataformas de compra en línea más grade del continente como lo es mercado libre esto con el objetivo de analizar referencias y precios que hay en esta plataforma y tener una lista de referencia para compras futuras.\n",
    "\n",
    "La metodología empleada es Beautifulsoup por su facilidad de uso teniendo en cuenta los requerimientos de la actividad y la consulta a realizar."
   ]
  },
  {
   "cell_type": "markdown",
   "metadata": {},
   "source": [
    "### Descrpición General\n",
    "\n",
    "##### página y artículo\n",
    "\n",
    "La página para el desarrollo de la actividad será una de las sugeridas en la actividad en este caso MercadoLibre, ya proporciona datos de precios locales del articulo a consultar sin tener que realizar un análisis adicional por tasas de cambio, lo cual nos pareció más práctico para realizar la extracción de los datos.\n",
    "\n",
    "##### ¿por qué deseas analizar este artículo y la empresa de comercio?\n",
    "\n",
    "Las tarjetas gráficas son hoy día una parte fundamental para cualquier equipo de cómputo done se realicen actividades de diseño, minería de datos y gamming por lo que es un componente clave para cualquier persona que se desempeñe en estos campos. Tomando esto como base se desea tener una lista de las diferentes tarjetas gráficas que se encuentran en el mercado publicadas en mercado libre ya que es una excelente fuente de referencia a tener en cuenta con otros proveedores de estos mismos componentes. \n",
    "\n",
    "Realizar una extracción de estos datos y poder disponer de ellos de forma ágil y precisa facilita mucho la buena toma de decisiones con respecto a cuál sería la mejor opción costo beneficio del mercado tomando como base los resultados obtenidos de una de las principales páginas de compras online.\n",
    "\n",
    "\n",
    "##### "
   ]
  },
  {
   "cell_type": "markdown",
   "metadata": {},
   "source": [
    "#### Metodología empleada de scraping.\n",
    "\n",
    "Este código realiza una extracción de información de productos en Mercado Libre, específicamente busca el título y el precio de los productos listados en una página de búsqueda. Primero, envía una solicitud a la URL especificada y obtiene el HTML de la página. Luego, analiza el contenido HTML utilizando BeautifulSoup para localizar los elementos que contienen la información de los productos. Dentro de cada elemento de producto, intenta identificar el título y el precio utilizando clases específicas (CSS selectors).\n",
    "\n",
    "Para cada producto encontrado, guarda el título y el precio en una lista de diccionarios, donde cada diccionario representa un producto con sus datos. Además, guarda una copia completa del HTML de la página en una ubicación especificada en el sistema de archivos, creando el directorio si no existe. Si hay errores en el proceso, maneja los casos de forma apropiada, devolviendo mensajes de error si no se puede acceder a la URL o si el HTML no se puede analizar correctamente.\n",
    "\n",
    "\n"
   ]
  },
  {
   "cell_type": "code",
   "execution_count": 8,
   "metadata": {
    "executionInfo": {
     "elapsed": 271,
     "status": "ok",
     "timestamp": 1729642223665,
     "user": {
      "displayName": "Andrés Felipe Palacio Ángel",
      "userId": "13062208051324873712"
     },
     "user_tz": 300
    },
    "id": "UiZtWDf5iUMM"
   },
   "outputs": [],
   "source": [
    "import requests\n",
    "from bs4 import BeautifulSoup\n",
    "import os\n",
    "import csv\n"
   ]
  },
  {
   "cell_type": "code",
   "execution_count": 11,
   "metadata": {},
   "outputs": [
    {
     "name": "stdout",
     "output_type": "stream",
     "text": [
      "Título: Tarjeta Gráfica De Escritorio Rx580 De 8 Gb, Ddr5, 256 Bits,, Precio: $980.448\n",
      "Título: Tarjeta Gráfica Gtx550ti 6gb Gpu 192 Bits, Compatible Con Vi, Precio: $534.241\n",
      "Título: Tarjeta de video Nvidia Gigabyte  Aero GeForce RTX 40 Series RTX 4060 8 GB GV-N4060AERO OC-8GD OC Edition 8GB, Precio: $1.697.90021% OFF\n",
      "Título: Tarjeta de video Nvidia Gigabyte  GeForce 700 Series GT 710 GV-N710D3-2GL (REV 2.0) 2GB, Precio: $255.5505% OFF\n",
      "Título: Tarjeta De Video Gigabyte GT 1030 Low Profile D4 2G, Precio: $348.158\n",
      "Título: Placa De Video Gigabyte Rtx 3050 Windforce Oc 6gb Nvidia 3c, Precio: $949.90038% OFF\n",
      "Título: Tarjeta Gráfica Para Computadora Gddr5 Rx580 Game 8 Gb 256 B, Precio: $477.711\n",
      "Título: Tarjeta De Video Gráfica Nvidia Quadro K1200 4gb, Precio: $720.000\n",
      "Título: Tarjeta Grafica Gigabyte Nvidia Geforce Gt 710 2 Gb, Precio: $295.000\n",
      "Título: Tarjeta de video AMD ASRock  Phantom Gaming Radeon RX 500 Series RX 550 PHANTOM G R RX550 2G 2GB, Precio: $413.000\n",
      "Título: Tarjetas Gráficas Rx580 8gb Ddr5 Gpu Pc Gaming Juego De Escr, Precio: $479.219\n",
      "Título: Tarjetas Gráficas Rx 550 De 4 Gb, Tarjetas Gráficas Gpu Gddr, Precio: $345.126\n",
      "Título: Tarjeta Gráfica Gddr5 Rx 580 De 8 Gb Y 256 Bits, Compatible, Precio: $492.265\n",
      "Título: Tarjeta Gráfica Amd Hd6770 4gb Ddr5 128, Precio: $233.930\n",
      "Título: Tarjeta Gráfica Gigabyte Geforce Rtx 4060 Gaming Oc , 8 Gb, Precio: $2.017.781\n",
      "Título: Tarjeta Gráfica Gigabyte Geforce Gtx 1650, 4gb, 128-bit, Precio: $1.314.127\n",
      "Título: Tarjeta Gráfica Gigabyte Geforce Rtx 4060 Ti Gaming Oc 8gb, Precio: $2.652.437\n",
      "Título: Tarjeta Gráfica De Juego De Escritorio Rx580 8g Para Amd 8gb, Precio: $499.18710% OFF\n",
      "Título: Tarjeta Gráfica Gigabyte Aorus Geforce Rtx 3070 Ti Master 8g, Precio: $6.501.41410% OFF\n",
      "Título: Gráficos Para Juegos Powercolor Fighter Amd Radeon Rx 6500 X, Precio: $1.401.185\n",
      "Título: Tarjeta Gráfica Para Juegos Asus Phoenix Nvidia Geforce Rtx, Precio: $2.060.866\n",
      "Título: Tarjeta Gráfica Asus Geforce Rtx 3050 Lp Brk Oc 6gb Gddr6, Precio: $1.405.7119% OFF\n",
      "Título: Tarjeta Gráfica Nvidia Geforce Rtx 3090 Founders Edition 24g, Precio: $7.755.3739% OFF\n",
      "Título: Tarjeta Gráfica Nvidia Geforce Rtx 3080 Founders Edition, Precio: $5.175.5739% OFF\n",
      "Título: Tarjeta Gráfica Asus Nvidia Geforce Gt 730, 2 Gb, Gddr5, Precio: $554.386\n",
      "Título: Tarjeta Gráfica Msi Geforce Gtx 1080 Ti Gaming X Trio 11gb, Precio: $4.760.2499% OFF\n",
      "Título: Tarjeta Gráfica Xfx Speedster Swft 210 Radeon Rx 6600 Core 8, Precio: $1.389.73710% OFF\n",
      "Título: Tarjeta Gráfica Escritorio Rx580 8 Gb, Ddr5, 256 Bits,, Precio: $521.107\n",
      "Título: Tarjeta Gráfica Para Juegos Msi Geforce Rtx 3060 Ventus 3x 1, Precio: $2.839.3779% OFF\n",
      "Título: Tarjeta Gráfica Msi Gaming Geforce Rtx 3060 12gb Gdrr6, Precio: $2.183.112\n",
      "Título: Tarjeta Gráfica Asus Dual Geforce Rtx 4070 Super Evo Oc 12gb, Precio: $4.069.37410% OFF\n",
      "Título: Tarjeta Gráfica Gtx1660 Ti 6 Gb Gddr6 12 Nm 192 Bits 1500-17, Precio: $974.191\n",
      "Título: Tarjeta Gráfica Zotac Geforce Rtx 4060 Ti 8 Gb Twin Edge Oc, Precio: $2.715.889\n",
      "Título: Tarjeta Gráfica Peland Rtx 3060ti 8g, Precio: $2.440.160\n",
      "Título: Tarjeta Gráfica Gigabyte 16 Gb 256 Bit Gddr6 2525 Mhz, Precio: $5.735.683\n",
      "Título: Rx 580 8gb 256 Bits 2048sp Gddr5 Juego De Tarjetas Gráficas, Precio: $439.28410% OFF\n",
      "Título: Tarjeta Gráfica Msi Gaming Geforce Gt 1030 4gb Gdrr4 64-bit, Precio: $722.8239% OFF\n",
      "Título: Tarjeta Gráfica Gigabyte Geforce Rtx 4060 Windforce Oc 8g,.., Precio: $1.980.775\n",
      "Título: W Tarjeta Gráfica Peladen Rx5500 Xt Para Amd Radeon 8gb S, Precio: $767.017\n",
      "Título: Tarjetas Gráficas Rtx 2060 Super 8gb Gddr6 256bit 12nm Para, Precio: $1.323.001\n",
      "Título: Tarjeta Gráfica Msi Gaming Geforce Gtx 1070 Ti 8gb Gdrr5, Precio: $3.386.48610% OFF\n",
      "Título: Tarjeta Gráfica Gtx550ti 6gb Gpu 192 Bits, Compatible Con Vi, Precio: $332.968\n",
      "Título: Tarjeta Gráfica Para Juegos Gddr5 Para Gtx1060 6gb 192bit Du, Precio: $652.36031% OFF\n",
      "Título: Tarjeta Gráfica Msi Gaming Geforce Rtx 2080 Ti 11gb Gddr6, Precio: $7.272.1599% OFF\n",
      "Título: Tarjeta Gráfica Radeon Amd Graphics Rx580 Gaming Card Par, Precio: $441.414\n",
      "Título: Tarjeta Gráfica Msi Geforce Rtx 4070 Ti Super 16gb Gdrr6x, Precio: $6.340.787\n",
      "Título: Tarjeta Gráfica Msi Gaming Geforce Rtx 4060 Ti 16gb Gdrr6, Precio: $4.095.554\n",
      "Título: Tarjeta Gráfica Jingsha Rx550 De 4 Gb/gddr5/128 Bits, Memori, Precio: $475.4039% OFF\n",
      "Título: Tarjeta Gráfica Rx580 8gb 2048sp Hd Game Tarjeta Gráfica Pci, Precio: $583.450\n",
      "Título: Tarjeta Gráfica Para Computadora De Escritorio Rx590 8gb Gdd, Precio: $534.729\n",
      "Guardando el archivo CSV en: c:\\Users\\OLICAM\\Desktop\\IUD_2024\\Programacion Para Analisis\\Actividad1\\actividad1\\productos.csv\n"
     ]
    }
   ],
   "source": [
    "def guardar_en_csv(resultados):\n",
    "    \"\"\"\n",
    "    Guarda la lista de resultados en un archivo CSV.\n",
    "    \n",
    "    Args:\n",
    "        resultados: La lista de diccionarios con la información de los productos.\n",
    "    \"\"\"\n",
    "    if not resultados:  # Si no hay datos para guardar\n",
    "        print(\"No hay resultados para guardar.\")\n",
    "        return\n",
    "\n",
    "    relative_path = os.path.join(os.getcwd(), 'actividad1')\n",
    "    if not os.path.exists(relative_path):\n",
    "        os.makedirs(relative_path)  # Crear el directorio si no existe\n",
    "\n",
    "    # Ruta completa donde se guardará el archivo CSV\n",
    "    archivo_csv = os.path.join(relative_path, 'productos.csv')\n",
    "    print(f\"Guardando el archivo CSV en: {archivo_csv}\")  # Muestra la ruta\n",
    "\n",
    "    with open(archivo_csv, mode='w', newline='', encoding='utf-8') as file:\n",
    "        writer = csv.DictWriter(file, fieldnames=[\"Título\", \"Precio\"])\n",
    "        writer.writeheader()  # Escribe la cabecera del archivo CSV\n",
    "        writer.writerows(resultados)  # Escribe los resultados\n",
    "\n",
    "# Función para raspar Mercado Libre\n",
    "\n",
    "\n",
    "def scrape_mercadolibre(url):\n",
    "    \"\"\"\n",
    "    Extrae información de los productos más vendidos en Mercado Libre.\n",
    "\n",
    "    Args:\n",
    "        url: La URL de la página de Mercado Libre a raspar.\n",
    "\n",
    "    Returns:\n",
    "        Una lista de diccionarios con la información extraída o un mensaje de error.\n",
    "    \"\"\"\n",
    "    try:\n",
    "        # 1. Obtener el contenido HTML de la página\n",
    "        response = requests.get(url)\n",
    "        response.raise_for_status()\n",
    "\n",
    "        # 2. Analizar el HTML con BeautifulSoup\n",
    "        soup = BeautifulSoup(response.content, \"html.parser\")\n",
    "\n",
    "        # 3. Encontrar los elementos que contienen la información de los productos.\n",
    "        productos = soup.find_all(\"li\", class_=\"ui-search-layout__item\")\n",
    "\n",
    "        resultados = []\n",
    "        for producto in productos:\n",
    "            # Encuentra el título del producto\n",
    "            titulo_elemento = producto.find(\n",
    "                \"h2\", class_=\"poly-box poly-component__title\")\n",
    "            titulo = titulo_elemento.text.strip() if titulo_elemento else \"Título no encontrado\"\n",
    "\n",
    "            # Encuentra el precio del producto\n",
    "            precio_elemento = producto.find(\n",
    "                \"div\", class_=\"poly-price__current\")\n",
    "            precio = precio_elemento.text.strip() if precio_elemento else \"Precio no encontrado\"\n",
    "\n",
    "            # Imprimir para verificar que los productos se están extrayendo correctamente\n",
    "            print(f\"Título: {titulo}, Precio: {precio}\")\n",
    "\n",
    "            resultados.append({\"Título\": titulo, \"Precio\": precio})\n",
    "\n",
    "        # Si hay resultados, se guardan en CSV\n",
    "        if resultados:\n",
    "            guardar_en_csv(resultados)\n",
    "        else:\n",
    "            print(\"No se encontraron productos.\")\n",
    "\n",
    "        # 4. Guardar el HTML en el directorio especificado\n",
    "        relative_path = os.path.join(os.getcwd(), 'actividad1')\n",
    "        if not os.path.exists(relative_path):\n",
    "            os.makedirs(relative_path)\n",
    "        with open(os.path.join(relative_path, 'pagina.html'), \"w\", encoding=\"utf-8\") as f:\n",
    "            f.write(str(soup))  # Guarda el HTML completo\n",
    "\n",
    "        return resultados\n",
    "\n",
    "    except requests.exceptions.RequestException as e:\n",
    "        return f\"Error al obtener la URL: {e}\"\n",
    "    except AttributeError as e:\n",
    "        return f\"Error al analizar el HTML: {e}. Verifica el selector CSS.\"\n",
    "    except Exception as e:\n",
    "        return f\"Error inesperado: {e}\"\n",
    "\n",
    "\n",
    "# URL de búsqueda de tarjetas gráficas en Mercado Libre Colombia\n",
    "url_mercadolibre = \"https://listado.mercadolibre.com.co/tarjetas-graficas\"\n",
    "\n",
    "resultados = scrape_mercadolibre(url_mercadolibre)"
   ]
  },
  {
   "cell_type": "markdown",
   "metadata": {},
   "source": [
    "#### Resultados y conclusiones\n",
    "\n",
    "Luego de obtener las listas de los productos y sus precios podemos sacar varias conclusiones de los resultados obtenidos:\n",
    "\n",
    "Variedad de Productos: La lista de productos obtenidos muestra una variedad de tarjetas gráficas de diferentes marcas y modelos (NVIDIA y AMD), lo que indica que hay una oferta amplia que puede satisfacer tanto a usuarios que buscan tarjetas de gama media como a aquellos interesados en productos de gama alta.\n",
    "\n",
    "Rango de Precios: Los precios de las tarjetas gráficas oscilan desde aproximadamente $800,000 hasta $2,200,000. Esto sugiere que hay opciones para diferentes presupuestos y necesidades de rendimiento, aunque las tarjetas de gama alta como las de la serie RTX de NVIDIA tienden a ser más costosas.\n",
    "\n",
    "Tendencia del Mercado: Observando los productos extraídos, es evidente que los modelos de tarjetas gráficas más recientes, como la serie RTX de NVIDIA, son significativamente más caros que los modelos anteriores, como la GTX 1050 Ti. \n"
   ]
  },
  {
   "cell_type": "markdown",
   "metadata": {},
   "source": [
    "#### Bibliografia\n",
    "\n",
    "Galperin, M. (s.f.). Mercado libre. Obtenido de Galperin, M. (s.f.). Mercado libre. Obtenido de https://www.mercadolibre.com.co/\n",
    "\n",
    "\n",
    "Andrade, F. (s.f.). youtube. Obtenido de https://www.youtube.com/watch?v=kPNHKrOqedI"
   ]
  }
 ],
 "metadata": {
  "colab": {
   "authorship_tag": "ABX9TyMLzFrSOLjb+hWkF1/bs6X1",
   "provenance": []
  },
  "kernelspec": {
   "display_name": "venv",
   "language": "python",
   "name": "python3"
  },
  "language_info": {
   "codemirror_mode": {
    "name": "ipython",
    "version": 3
   },
   "file_extension": ".py",
   "mimetype": "text/x-python",
   "name": "python",
   "nbconvert_exporter": "python",
   "pygments_lexer": "ipython3",
   "version": "3.12.3"
  }
 },
 "nbformat": 4,
 "nbformat_minor": 0
}
